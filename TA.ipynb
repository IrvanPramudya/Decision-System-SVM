{
  "nbformat": 4,
  "nbformat_minor": 0,
  "metadata": {
    "colab": {
      "name": "TA.ipynb",
      "provenance": []
    },
    "kernelspec": {
      "name": "python3",
      "display_name": "Python 3"
    },
    "language_info": {
      "name": "python"
    }
  },
  "cells": [
    {
      "cell_type": "code",
      "execution_count": 1,
      "metadata": {
        "id": "QknuaT6SfHFY"
      },
      "outputs": [],
      "source": [
        "import pandas as pd\n",
        "import matplotlib.pyplot as plt\n",
        "import seaborn as sns\n",
        "from sklearn.model_selection import train_test_split\n",
        "from sklearn.preprocessing import LabelEncoder\n",
        "from sklearn.metrics import confusion_matrix\n",
        "from sklearn.metrics import classification_report\n",
        "from sklearn import svm\n",
        "from sklearn.svm import LinearSVC\n",
        "from sklearn.model_selection import cross_val_score\n",
        "from sklearn.metrics import roc_auc_score\n",
        "from sklearn.metrics import roc_curve, auc\n",
        "import numpy as np"
      ]
    },
    {
      "cell_type": "code",
      "source": [
        "df = pd.read_csv('datapl.csv', header=0)"
      ],
      "metadata": {
        "id": "T9C6Dabziv5V"
      },
      "execution_count": 2,
      "outputs": []
    },
    {
      "cell_type": "code",
      "source": [
        "df.head()"
      ],
      "metadata": {
        "colab": {
          "base_uri": "https://localhost:8080/",
          "height": 206
        },
        "id": "0kcEDu0njRg2",
        "outputId": "b26c571b-7caa-4cf6-a8b1-0fcf830050f9"
      },
      "execution_count": 3,
      "outputs": [
        {
          "output_type": "execute_result",
          "data": {
            "text/plain": [
              "                    Nama                     Klub Kebangsaan  Minutes Played  \\\n",
              "0                  Rodri          Manchester City    Spanyol            2887   \n",
              "1  Pierre-Emile Højbjerg        Tottenham Hotspur    Denmark            3198   \n",
              "2       Jordan Henderson                Liverpool    Inggris            2603   \n",
              "3            Declan Rice          West Ham United    Inggris            3178   \n",
              "4            Rúben Neves  Wolverhampton Wanderers   Portugal            2662   \n",
              "\n",
              "   Passing  Tackles  Shots  Interception Keterangan  \n",
              "0     2865       72     45            28        DMF  \n",
              "1     2531       78     31            48        DMF  \n",
              "2     2157       36     31            23        CMF  \n",
              "3     2153       80     26            63        DMF  \n",
              "4     1929       74     20            41        DMF  "
            ],
            "text/html": [
              "\n",
              "  <div id=\"df-c11e6773-a55e-4270-a831-f8d20ce06dfc\">\n",
              "    <div class=\"colab-df-container\">\n",
              "      <div>\n",
              "<style scoped>\n",
              "    .dataframe tbody tr th:only-of-type {\n",
              "        vertical-align: middle;\n",
              "    }\n",
              "\n",
              "    .dataframe tbody tr th {\n",
              "        vertical-align: top;\n",
              "    }\n",
              "\n",
              "    .dataframe thead th {\n",
              "        text-align: right;\n",
              "    }\n",
              "</style>\n",
              "<table border=\"1\" class=\"dataframe\">\n",
              "  <thead>\n",
              "    <tr style=\"text-align: right;\">\n",
              "      <th></th>\n",
              "      <th>Nama</th>\n",
              "      <th>Klub</th>\n",
              "      <th>Kebangsaan</th>\n",
              "      <th>Minutes Played</th>\n",
              "      <th>Passing</th>\n",
              "      <th>Tackles</th>\n",
              "      <th>Shots</th>\n",
              "      <th>Interception</th>\n",
              "      <th>Keterangan</th>\n",
              "    </tr>\n",
              "  </thead>\n",
              "  <tbody>\n",
              "    <tr>\n",
              "      <th>0</th>\n",
              "      <td>Rodri</td>\n",
              "      <td>Manchester City</td>\n",
              "      <td>Spanyol</td>\n",
              "      <td>2887</td>\n",
              "      <td>2865</td>\n",
              "      <td>72</td>\n",
              "      <td>45</td>\n",
              "      <td>28</td>\n",
              "      <td>DMF</td>\n",
              "    </tr>\n",
              "    <tr>\n",
              "      <th>1</th>\n",
              "      <td>Pierre-Emile Højbjerg</td>\n",
              "      <td>Tottenham Hotspur</td>\n",
              "      <td>Denmark</td>\n",
              "      <td>3198</td>\n",
              "      <td>2531</td>\n",
              "      <td>78</td>\n",
              "      <td>31</td>\n",
              "      <td>48</td>\n",
              "      <td>DMF</td>\n",
              "    </tr>\n",
              "    <tr>\n",
              "      <th>2</th>\n",
              "      <td>Jordan Henderson</td>\n",
              "      <td>Liverpool</td>\n",
              "      <td>Inggris</td>\n",
              "      <td>2603</td>\n",
              "      <td>2157</td>\n",
              "      <td>36</td>\n",
              "      <td>31</td>\n",
              "      <td>23</td>\n",
              "      <td>CMF</td>\n",
              "    </tr>\n",
              "    <tr>\n",
              "      <th>3</th>\n",
              "      <td>Declan Rice</td>\n",
              "      <td>West Ham United</td>\n",
              "      <td>Inggris</td>\n",
              "      <td>3178</td>\n",
              "      <td>2153</td>\n",
              "      <td>80</td>\n",
              "      <td>26</td>\n",
              "      <td>63</td>\n",
              "      <td>DMF</td>\n",
              "    </tr>\n",
              "    <tr>\n",
              "      <th>4</th>\n",
              "      <td>Rúben Neves</td>\n",
              "      <td>Wolverhampton Wanderers</td>\n",
              "      <td>Portugal</td>\n",
              "      <td>2662</td>\n",
              "      <td>1929</td>\n",
              "      <td>74</td>\n",
              "      <td>20</td>\n",
              "      <td>41</td>\n",
              "      <td>DMF</td>\n",
              "    </tr>\n",
              "  </tbody>\n",
              "</table>\n",
              "</div>\n",
              "      <button class=\"colab-df-convert\" onclick=\"convertToInteractive('df-c11e6773-a55e-4270-a831-f8d20ce06dfc')\"\n",
              "              title=\"Convert this dataframe to an interactive table.\"\n",
              "              style=\"display:none;\">\n",
              "        \n",
              "  <svg xmlns=\"http://www.w3.org/2000/svg\" height=\"24px\"viewBox=\"0 0 24 24\"\n",
              "       width=\"24px\">\n",
              "    <path d=\"M0 0h24v24H0V0z\" fill=\"none\"/>\n",
              "    <path d=\"M18.56 5.44l.94 2.06.94-2.06 2.06-.94-2.06-.94-.94-2.06-.94 2.06-2.06.94zm-11 1L8.5 8.5l.94-2.06 2.06-.94-2.06-.94L8.5 2.5l-.94 2.06-2.06.94zm10 10l.94 2.06.94-2.06 2.06-.94-2.06-.94-.94-2.06-.94 2.06-2.06.94z\"/><path d=\"M17.41 7.96l-1.37-1.37c-.4-.4-.92-.59-1.43-.59-.52 0-1.04.2-1.43.59L10.3 9.45l-7.72 7.72c-.78.78-.78 2.05 0 2.83L4 21.41c.39.39.9.59 1.41.59.51 0 1.02-.2 1.41-.59l7.78-7.78 2.81-2.81c.8-.78.8-2.07 0-2.86zM5.41 20L4 18.59l7.72-7.72 1.47 1.35L5.41 20z\"/>\n",
              "  </svg>\n",
              "      </button>\n",
              "      \n",
              "  <style>\n",
              "    .colab-df-container {\n",
              "      display:flex;\n",
              "      flex-wrap:wrap;\n",
              "      gap: 12px;\n",
              "    }\n",
              "\n",
              "    .colab-df-convert {\n",
              "      background-color: #E8F0FE;\n",
              "      border: none;\n",
              "      border-radius: 50%;\n",
              "      cursor: pointer;\n",
              "      display: none;\n",
              "      fill: #1967D2;\n",
              "      height: 32px;\n",
              "      padding: 0 0 0 0;\n",
              "      width: 32px;\n",
              "    }\n",
              "\n",
              "    .colab-df-convert:hover {\n",
              "      background-color: #E2EBFA;\n",
              "      box-shadow: 0px 1px 2px rgba(60, 64, 67, 0.3), 0px 1px 3px 1px rgba(60, 64, 67, 0.15);\n",
              "      fill: #174EA6;\n",
              "    }\n",
              "\n",
              "    [theme=dark] .colab-df-convert {\n",
              "      background-color: #3B4455;\n",
              "      fill: #D2E3FC;\n",
              "    }\n",
              "\n",
              "    [theme=dark] .colab-df-convert:hover {\n",
              "      background-color: #434B5C;\n",
              "      box-shadow: 0px 1px 3px 1px rgba(0, 0, 0, 0.15);\n",
              "      filter: drop-shadow(0px 1px 2px rgba(0, 0, 0, 0.3));\n",
              "      fill: #FFFFFF;\n",
              "    }\n",
              "  </style>\n",
              "\n",
              "      <script>\n",
              "        const buttonEl =\n",
              "          document.querySelector('#df-c11e6773-a55e-4270-a831-f8d20ce06dfc button.colab-df-convert');\n",
              "        buttonEl.style.display =\n",
              "          google.colab.kernel.accessAllowed ? 'block' : 'none';\n",
              "\n",
              "        async function convertToInteractive(key) {\n",
              "          const element = document.querySelector('#df-c11e6773-a55e-4270-a831-f8d20ce06dfc');\n",
              "          const dataTable =\n",
              "            await google.colab.kernel.invokeFunction('convertToInteractive',\n",
              "                                                     [key], {});\n",
              "          if (!dataTable) return;\n",
              "\n",
              "          const docLinkHtml = 'Like what you see? Visit the ' +\n",
              "            '<a target=\"_blank\" href=https://colab.research.google.com/notebooks/data_table.ipynb>data table notebook</a>'\n",
              "            + ' to learn more about interactive tables.';\n",
              "          element.innerHTML = '';\n",
              "          dataTable['output_type'] = 'display_data';\n",
              "          await google.colab.output.renderOutput(dataTable, element);\n",
              "          const docLink = document.createElement('div');\n",
              "          docLink.innerHTML = docLinkHtml;\n",
              "          element.appendChild(docLink);\n",
              "        }\n",
              "      </script>\n",
              "    </div>\n",
              "  </div>\n",
              "  "
            ]
          },
          "metadata": {},
          "execution_count": 3
        }
      ]
    },
    {
      "cell_type": "code",
      "source": [
        "labelencoder = LabelEncoder()"
      ],
      "metadata": {
        "id": "PQ6iXLLBuzgv"
      },
      "execution_count": 4,
      "outputs": []
    },
    {
      "cell_type": "code",
      "source": [
        "df['Nama'] = labelencoder.fit_transform(df['Nama'])\n",
        "df['Klub'] = labelencoder.fit_transform(df['Klub'])\n",
        "df['Kebangsaan'] = labelencoder.fit_transform(df['Kebangsaan'])\n",
        "df['Keterangan'] = labelencoder.fit_transform(df['Keterangan'])"
      ],
      "metadata": {
        "id": "bNFt2cw4u2Iw"
      },
      "execution_count": 5,
      "outputs": []
    },
    {
      "cell_type": "code",
      "source": [
        "df.head()"
      ],
      "metadata": {
        "colab": {
          "base_uri": "https://localhost:8080/",
          "height": 206
        },
        "id": "CDiAaVWZvUJ4",
        "outputId": "2726e881-5023-4862-b842-a552e1bda14f"
      },
      "execution_count": 6,
      "outputs": [
        {
          "output_type": "execute_result",
          "data": {
            "text/plain": [
              "   Nama  Klub  Kebangsaan  Minutes Played  Passing  Tackles  Shots  \\\n",
              "0   156    11          34            2887     2865       72     45   \n",
              "1   154    16           5            3198     2531       78     31   \n",
              "2    87    10          10            2603     2157       36     31   \n",
              "3    37    18          10            3178     2153       80     26   \n",
              "4   163    19          27            2662     1929       74     20   \n",
              "\n",
              "   Interception  Keterangan  \n",
              "0            28           2  \n",
              "1            48           2  \n",
              "2            23           1  \n",
              "3            63           2  \n",
              "4            41           2  "
            ],
            "text/html": [
              "\n",
              "  <div id=\"df-bd6e924d-7551-4958-8c6f-64a829636fd4\">\n",
              "    <div class=\"colab-df-container\">\n",
              "      <div>\n",
              "<style scoped>\n",
              "    .dataframe tbody tr th:only-of-type {\n",
              "        vertical-align: middle;\n",
              "    }\n",
              "\n",
              "    .dataframe tbody tr th {\n",
              "        vertical-align: top;\n",
              "    }\n",
              "\n",
              "    .dataframe thead th {\n",
              "        text-align: right;\n",
              "    }\n",
              "</style>\n",
              "<table border=\"1\" class=\"dataframe\">\n",
              "  <thead>\n",
              "    <tr style=\"text-align: right;\">\n",
              "      <th></th>\n",
              "      <th>Nama</th>\n",
              "      <th>Klub</th>\n",
              "      <th>Kebangsaan</th>\n",
              "      <th>Minutes Played</th>\n",
              "      <th>Passing</th>\n",
              "      <th>Tackles</th>\n",
              "      <th>Shots</th>\n",
              "      <th>Interception</th>\n",
              "      <th>Keterangan</th>\n",
              "    </tr>\n",
              "  </thead>\n",
              "  <tbody>\n",
              "    <tr>\n",
              "      <th>0</th>\n",
              "      <td>156</td>\n",
              "      <td>11</td>\n",
              "      <td>34</td>\n",
              "      <td>2887</td>\n",
              "      <td>2865</td>\n",
              "      <td>72</td>\n",
              "      <td>45</td>\n",
              "      <td>28</td>\n",
              "      <td>2</td>\n",
              "    </tr>\n",
              "    <tr>\n",
              "      <th>1</th>\n",
              "      <td>154</td>\n",
              "      <td>16</td>\n",
              "      <td>5</td>\n",
              "      <td>3198</td>\n",
              "      <td>2531</td>\n",
              "      <td>78</td>\n",
              "      <td>31</td>\n",
              "      <td>48</td>\n",
              "      <td>2</td>\n",
              "    </tr>\n",
              "    <tr>\n",
              "      <th>2</th>\n",
              "      <td>87</td>\n",
              "      <td>10</td>\n",
              "      <td>10</td>\n",
              "      <td>2603</td>\n",
              "      <td>2157</td>\n",
              "      <td>36</td>\n",
              "      <td>31</td>\n",
              "      <td>23</td>\n",
              "      <td>1</td>\n",
              "    </tr>\n",
              "    <tr>\n",
              "      <th>3</th>\n",
              "      <td>37</td>\n",
              "      <td>18</td>\n",
              "      <td>10</td>\n",
              "      <td>3178</td>\n",
              "      <td>2153</td>\n",
              "      <td>80</td>\n",
              "      <td>26</td>\n",
              "      <td>63</td>\n",
              "      <td>2</td>\n",
              "    </tr>\n",
              "    <tr>\n",
              "      <th>4</th>\n",
              "      <td>163</td>\n",
              "      <td>19</td>\n",
              "      <td>27</td>\n",
              "      <td>2662</td>\n",
              "      <td>1929</td>\n",
              "      <td>74</td>\n",
              "      <td>20</td>\n",
              "      <td>41</td>\n",
              "      <td>2</td>\n",
              "    </tr>\n",
              "  </tbody>\n",
              "</table>\n",
              "</div>\n",
              "      <button class=\"colab-df-convert\" onclick=\"convertToInteractive('df-bd6e924d-7551-4958-8c6f-64a829636fd4')\"\n",
              "              title=\"Convert this dataframe to an interactive table.\"\n",
              "              style=\"display:none;\">\n",
              "        \n",
              "  <svg xmlns=\"http://www.w3.org/2000/svg\" height=\"24px\"viewBox=\"0 0 24 24\"\n",
              "       width=\"24px\">\n",
              "    <path d=\"M0 0h24v24H0V0z\" fill=\"none\"/>\n",
              "    <path d=\"M18.56 5.44l.94 2.06.94-2.06 2.06-.94-2.06-.94-.94-2.06-.94 2.06-2.06.94zm-11 1L8.5 8.5l.94-2.06 2.06-.94-2.06-.94L8.5 2.5l-.94 2.06-2.06.94zm10 10l.94 2.06.94-2.06 2.06-.94-2.06-.94-.94-2.06-.94 2.06-2.06.94z\"/><path d=\"M17.41 7.96l-1.37-1.37c-.4-.4-.92-.59-1.43-.59-.52 0-1.04.2-1.43.59L10.3 9.45l-7.72 7.72c-.78.78-.78 2.05 0 2.83L4 21.41c.39.39.9.59 1.41.59.51 0 1.02-.2 1.41-.59l7.78-7.78 2.81-2.81c.8-.78.8-2.07 0-2.86zM5.41 20L4 18.59l7.72-7.72 1.47 1.35L5.41 20z\"/>\n",
              "  </svg>\n",
              "      </button>\n",
              "      \n",
              "  <style>\n",
              "    .colab-df-container {\n",
              "      display:flex;\n",
              "      flex-wrap:wrap;\n",
              "      gap: 12px;\n",
              "    }\n",
              "\n",
              "    .colab-df-convert {\n",
              "      background-color: #E8F0FE;\n",
              "      border: none;\n",
              "      border-radius: 50%;\n",
              "      cursor: pointer;\n",
              "      display: none;\n",
              "      fill: #1967D2;\n",
              "      height: 32px;\n",
              "      padding: 0 0 0 0;\n",
              "      width: 32px;\n",
              "    }\n",
              "\n",
              "    .colab-df-convert:hover {\n",
              "      background-color: #E2EBFA;\n",
              "      box-shadow: 0px 1px 2px rgba(60, 64, 67, 0.3), 0px 1px 3px 1px rgba(60, 64, 67, 0.15);\n",
              "      fill: #174EA6;\n",
              "    }\n",
              "\n",
              "    [theme=dark] .colab-df-convert {\n",
              "      background-color: #3B4455;\n",
              "      fill: #D2E3FC;\n",
              "    }\n",
              "\n",
              "    [theme=dark] .colab-df-convert:hover {\n",
              "      background-color: #434B5C;\n",
              "      box-shadow: 0px 1px 3px 1px rgba(0, 0, 0, 0.15);\n",
              "      filter: drop-shadow(0px 1px 2px rgba(0, 0, 0, 0.3));\n",
              "      fill: #FFFFFF;\n",
              "    }\n",
              "  </style>\n",
              "\n",
              "      <script>\n",
              "        const buttonEl =\n",
              "          document.querySelector('#df-bd6e924d-7551-4958-8c6f-64a829636fd4 button.colab-df-convert');\n",
              "        buttonEl.style.display =\n",
              "          google.colab.kernel.accessAllowed ? 'block' : 'none';\n",
              "\n",
              "        async function convertToInteractive(key) {\n",
              "          const element = document.querySelector('#df-bd6e924d-7551-4958-8c6f-64a829636fd4');\n",
              "          const dataTable =\n",
              "            await google.colab.kernel.invokeFunction('convertToInteractive',\n",
              "                                                     [key], {});\n",
              "          if (!dataTable) return;\n",
              "\n",
              "          const docLinkHtml = 'Like what you see? Visit the ' +\n",
              "            '<a target=\"_blank\" href=https://colab.research.google.com/notebooks/data_table.ipynb>data table notebook</a>'\n",
              "            + ' to learn more about interactive tables.';\n",
              "          element.innerHTML = '';\n",
              "          dataTable['output_type'] = 'display_data';\n",
              "          await google.colab.output.renderOutput(dataTable, element);\n",
              "          const docLink = document.createElement('div');\n",
              "          docLink.innerHTML = docLinkHtml;\n",
              "          element.appendChild(docLink);\n",
              "        }\n",
              "      </script>\n",
              "    </div>\n",
              "  </div>\n",
              "  "
            ]
          },
          "metadata": {},
          "execution_count": 6
        }
      ]
    },
    {
      "cell_type": "code",
      "source": [
        "X = df[['Nama','Klub','Kebangsaan','Minutes Played','Passing','Tackles','Shots','Interception']]"
      ],
      "metadata": {
        "id": "ahYHkluOv29G"
      },
      "execution_count": 7,
      "outputs": []
    },
    {
      "cell_type": "code",
      "source": [
        "y = df.Keterangan"
      ],
      "metadata": {
        "id": "vvfsR-SWwfhq"
      },
      "execution_count": 8,
      "outputs": []
    },
    {
      "cell_type": "code",
      "source": [
        "X_train, X_test, y_train, y_test = train_test_split(X, y, test_size=0.30)"
      ],
      "metadata": {
        "id": "OyN9UvSIwi9m"
      },
      "execution_count": 9,
      "outputs": []
    },
    {
      "cell_type": "code",
      "source": [
        "clf = svm.SVC(kernel='linear', C=0.1, probability=True, verbose=True)\n",
        "print(clf)"
      ],
      "metadata": {
        "colab": {
          "base_uri": "https://localhost:8080/"
        },
        "id": "e7eLjl-rw3Tf",
        "outputId": "c3325aca-12f8-4310-81c0-264bc06983af"
      },
      "execution_count": 10,
      "outputs": [
        {
          "output_type": "stream",
          "name": "stdout",
          "text": [
            "SVC(C=0.1, kernel='linear', probability=True, verbose=True)\n"
          ]
        }
      ]
    },
    {
      "cell_type": "code",
      "source": [
        "clf = clf.fit(X_train, y_train)\n",
        "print('w = ', clf.coef_)\n",
        "print('b = ', clf.intercept_)\n",
        "\n",
        "print(clf.verbose)"
      ],
      "metadata": {
        "colab": {
          "base_uri": "https://localhost:8080/"
        },
        "id": "qKbNaJ4CxJy5",
        "outputId": "5af0fa7d-eb33-43c5-fe2c-a0ea5e9bf19b"
      },
      "execution_count": 11,
      "outputs": [
        {
          "output_type": "stream",
          "name": "stdout",
          "text": [
            "[LibSVM]w =  [[ 2.40375375e-03 -1.66698453e-01  5.25622421e-02  1.13922509e-03\n",
            "  -6.71892757e-03 -6.00444948e-02  2.87283972e-01 -2.76199536e-01]\n",
            " [ 6.34739733e-03  3.70692860e-02 -3.83310989e-02 -3.20100171e-03\n",
            "  -7.22764171e-04 -1.50489748e-01  6.63806898e-01 -4.32803982e-01]\n",
            " [ 2.22089636e-04  1.10963689e-02 -4.65318085e-02  5.62405251e-04\n",
            "  -5.20765654e-04 -1.05266463e-01  2.03769456e-01 -1.05323202e-01]]\n",
            "b =  [ 0.28241646 -0.5182567   1.22718751]\n",
            "True\n"
          ]
        }
      ]
    },
    {
      "cell_type": "code",
      "source": [
        "print(clf.predict(X_train))"
      ],
      "metadata": {
        "colab": {
          "base_uri": "https://localhost:8080/"
        },
        "id": "GIE-YjMgxVwI",
        "outputId": "06e4aaba-19fe-4c25-9ada-662c86e8f291"
      },
      "execution_count": 12,
      "outputs": [
        {
          "output_type": "stream",
          "name": "stdout",
          "text": [
            "[0 2 1 2 1 2 0 2 2 1 1 0 2 2 2 1 2 1 2 1 1 0 2 0 2 1 0 2 1 2 1 1 1 1 0 2 0\n",
            " 0 1 2 2 2 1 0 2 1 2 0 2 0 0 0 2 1 2 1 2 0 1 2 1 2 2 0 1 2 2 2 2 2 1 0 1 2\n",
            " 1 1 2 2 1 0 1 2 2 1 0 1 0 2 1 2 2 0 2 2 2 2 1 2 0 2 0 0 0 0 2 1 1 2 2 0 0\n",
            " 1 2 1 2 2 2 1 0 2 2 0 0 0 1 0 2 2 1 0 0 0 0 1 2]\n"
          ]
        }
      ]
    },
    {
      "cell_type": "code",
      "source": [
        "X_test.head()"
      ],
      "metadata": {
        "colab": {
          "base_uri": "https://localhost:8080/",
          "height": 206
        },
        "id": "pGAenCUlxffB",
        "outputId": "1980c16e-b1eb-424e-8b37-843440fde3ad"
      },
      "execution_count": 13,
      "outputs": [
        {
          "output_type": "execute_result",
          "data": {
            "text/plain": [
              "     Nama  Klub  Kebangsaan  Minutes Played  Passing  Tackles  Shots  \\\n",
              "165   107     8          10             147       61        1      1   \n",
              "60    149    12          25            1354      877       13     32   \n",
              "33    135    17          25            3221     1144       53     25   \n",
              "72    137    10           9            1173      743       46     26   \n",
              "161    91     2          10             252       87        2      1   \n",
              "\n",
              "     Interception  \n",
              "165             1  \n",
              "60             13  \n",
              "33             30  \n",
              "72             14  \n",
              "161             1  "
            ],
            "text/html": [
              "\n",
              "  <div id=\"df-12e1453f-c53a-431c-9f6e-06d49cd07c3e\">\n",
              "    <div class=\"colab-df-container\">\n",
              "      <div>\n",
              "<style scoped>\n",
              "    .dataframe tbody tr th:only-of-type {\n",
              "        vertical-align: middle;\n",
              "    }\n",
              "\n",
              "    .dataframe tbody tr th {\n",
              "        vertical-align: top;\n",
              "    }\n",
              "\n",
              "    .dataframe thead th {\n",
              "        text-align: right;\n",
              "    }\n",
              "</style>\n",
              "<table border=\"1\" class=\"dataframe\">\n",
              "  <thead>\n",
              "    <tr style=\"text-align: right;\">\n",
              "      <th></th>\n",
              "      <th>Nama</th>\n",
              "      <th>Klub</th>\n",
              "      <th>Kebangsaan</th>\n",
              "      <th>Minutes Played</th>\n",
              "      <th>Passing</th>\n",
              "      <th>Tackles</th>\n",
              "      <th>Shots</th>\n",
              "      <th>Interception</th>\n",
              "    </tr>\n",
              "  </thead>\n",
              "  <tbody>\n",
              "    <tr>\n",
              "      <th>165</th>\n",
              "      <td>107</td>\n",
              "      <td>8</td>\n",
              "      <td>10</td>\n",
              "      <td>147</td>\n",
              "      <td>61</td>\n",
              "      <td>1</td>\n",
              "      <td>1</td>\n",
              "      <td>1</td>\n",
              "    </tr>\n",
              "    <tr>\n",
              "      <th>60</th>\n",
              "      <td>149</td>\n",
              "      <td>12</td>\n",
              "      <td>25</td>\n",
              "      <td>1354</td>\n",
              "      <td>877</td>\n",
              "      <td>13</td>\n",
              "      <td>32</td>\n",
              "      <td>13</td>\n",
              "    </tr>\n",
              "    <tr>\n",
              "      <th>33</th>\n",
              "      <td>135</td>\n",
              "      <td>17</td>\n",
              "      <td>25</td>\n",
              "      <td>3221</td>\n",
              "      <td>1144</td>\n",
              "      <td>53</td>\n",
              "      <td>25</td>\n",
              "      <td>30</td>\n",
              "    </tr>\n",
              "    <tr>\n",
              "      <th>72</th>\n",
              "      <td>137</td>\n",
              "      <td>10</td>\n",
              "      <td>9</td>\n",
              "      <td>1173</td>\n",
              "      <td>743</td>\n",
              "      <td>46</td>\n",
              "      <td>26</td>\n",
              "      <td>14</td>\n",
              "    </tr>\n",
              "    <tr>\n",
              "      <th>161</th>\n",
              "      <td>91</td>\n",
              "      <td>2</td>\n",
              "      <td>10</td>\n",
              "      <td>252</td>\n",
              "      <td>87</td>\n",
              "      <td>2</td>\n",
              "      <td>1</td>\n",
              "      <td>1</td>\n",
              "    </tr>\n",
              "  </tbody>\n",
              "</table>\n",
              "</div>\n",
              "      <button class=\"colab-df-convert\" onclick=\"convertToInteractive('df-12e1453f-c53a-431c-9f6e-06d49cd07c3e')\"\n",
              "              title=\"Convert this dataframe to an interactive table.\"\n",
              "              style=\"display:none;\">\n",
              "        \n",
              "  <svg xmlns=\"http://www.w3.org/2000/svg\" height=\"24px\"viewBox=\"0 0 24 24\"\n",
              "       width=\"24px\">\n",
              "    <path d=\"M0 0h24v24H0V0z\" fill=\"none\"/>\n",
              "    <path d=\"M18.56 5.44l.94 2.06.94-2.06 2.06-.94-2.06-.94-.94-2.06-.94 2.06-2.06.94zm-11 1L8.5 8.5l.94-2.06 2.06-.94-2.06-.94L8.5 2.5l-.94 2.06-2.06.94zm10 10l.94 2.06.94-2.06 2.06-.94-2.06-.94-.94-2.06-.94 2.06-2.06.94z\"/><path d=\"M17.41 7.96l-1.37-1.37c-.4-.4-.92-.59-1.43-.59-.52 0-1.04.2-1.43.59L10.3 9.45l-7.72 7.72c-.78.78-.78 2.05 0 2.83L4 21.41c.39.39.9.59 1.41.59.51 0 1.02-.2 1.41-.59l7.78-7.78 2.81-2.81c.8-.78.8-2.07 0-2.86zM5.41 20L4 18.59l7.72-7.72 1.47 1.35L5.41 20z\"/>\n",
              "  </svg>\n",
              "      </button>\n",
              "      \n",
              "  <style>\n",
              "    .colab-df-container {\n",
              "      display:flex;\n",
              "      flex-wrap:wrap;\n",
              "      gap: 12px;\n",
              "    }\n",
              "\n",
              "    .colab-df-convert {\n",
              "      background-color: #E8F0FE;\n",
              "      border: none;\n",
              "      border-radius: 50%;\n",
              "      cursor: pointer;\n",
              "      display: none;\n",
              "      fill: #1967D2;\n",
              "      height: 32px;\n",
              "      padding: 0 0 0 0;\n",
              "      width: 32px;\n",
              "    }\n",
              "\n",
              "    .colab-df-convert:hover {\n",
              "      background-color: #E2EBFA;\n",
              "      box-shadow: 0px 1px 2px rgba(60, 64, 67, 0.3), 0px 1px 3px 1px rgba(60, 64, 67, 0.15);\n",
              "      fill: #174EA6;\n",
              "    }\n",
              "\n",
              "    [theme=dark] .colab-df-convert {\n",
              "      background-color: #3B4455;\n",
              "      fill: #D2E3FC;\n",
              "    }\n",
              "\n",
              "    [theme=dark] .colab-df-convert:hover {\n",
              "      background-color: #434B5C;\n",
              "      box-shadow: 0px 1px 3px 1px rgba(0, 0, 0, 0.15);\n",
              "      filter: drop-shadow(0px 1px 2px rgba(0, 0, 0, 0.3));\n",
              "      fill: #FFFFFF;\n",
              "    }\n",
              "  </style>\n",
              "\n",
              "      <script>\n",
              "        const buttonEl =\n",
              "          document.querySelector('#df-12e1453f-c53a-431c-9f6e-06d49cd07c3e button.colab-df-convert');\n",
              "        buttonEl.style.display =\n",
              "          google.colab.kernel.accessAllowed ? 'block' : 'none';\n",
              "\n",
              "        async function convertToInteractive(key) {\n",
              "          const element = document.querySelector('#df-12e1453f-c53a-431c-9f6e-06d49cd07c3e');\n",
              "          const dataTable =\n",
              "            await google.colab.kernel.invokeFunction('convertToInteractive',\n",
              "                                                     [key], {});\n",
              "          if (!dataTable) return;\n",
              "\n",
              "          const docLinkHtml = 'Like what you see? Visit the ' +\n",
              "            '<a target=\"_blank\" href=https://colab.research.google.com/notebooks/data_table.ipynb>data table notebook</a>'\n",
              "            + ' to learn more about interactive tables.';\n",
              "          element.innerHTML = '';\n",
              "          dataTable['output_type'] = 'display_data';\n",
              "          await google.colab.output.renderOutput(dataTable, element);\n",
              "          const docLink = document.createElement('div');\n",
              "          docLink.innerHTML = docLinkHtml;\n",
              "          element.appendChild(docLink);\n",
              "        }\n",
              "      </script>\n",
              "    </div>\n",
              "  </div>\n",
              "  "
            ]
          },
          "metadata": {},
          "execution_count": 13
        }
      ]
    },
    {
      "cell_type": "code",
      "source": [
        "y_test.head()"
      ],
      "metadata": {
        "colab": {
          "base_uri": "https://localhost:8080/"
        },
        "id": "YWti5FWixs1u",
        "outputId": "7f190f50-d577-4900-cb99-20e0f00dc253"
      },
      "execution_count": 14,
      "outputs": [
        {
          "output_type": "execute_result",
          "data": {
            "text/plain": [
              "165    1\n",
              "60     0\n",
              "33     1\n",
              "72     1\n",
              "161    1\n",
              "Name: Keterangan, dtype: int64"
            ]
          },
          "metadata": {},
          "execution_count": 14
        }
      ]
    },
    {
      "cell_type": "code",
      "source": [
        "hasilPrediksi = clf.predict(X_train)\n",
        "print('Label Sebenarnya = ', y_train)\n",
        "print('Hasil Prediksi = ', hasilPrediksi)\n",
        "print(clf.predict_proba(X_train))"
      ],
      "metadata": {
        "colab": {
          "base_uri": "https://localhost:8080/"
        },
        "id": "H14q7xrMxyKB",
        "outputId": "67733ad9-04a0-4ee3-a889-e6887d50603e"
      },
      "execution_count": 15,
      "outputs": [
        {
          "output_type": "stream",
          "name": "stdout",
          "text": [
            "Label Sebenarnya =  151    1\n",
            "177    2\n",
            "28     1\n",
            "112    2\n",
            "185    1\n",
            "      ..\n",
            "47     0\n",
            "75     0\n",
            "178    2\n",
            "61     0\n",
            "93     2\n",
            "Name: Keterangan, Length: 135, dtype: int64\n",
            "Hasil Prediksi =  [0 2 1 2 1 2 0 2 2 1 1 0 2 2 2 1 2 1 2 1 1 0 2 0 2 1 0 2 1 2 1 1 1 1 0 2 0\n",
            " 0 1 2 2 2 1 0 2 1 2 0 2 0 0 0 2 1 2 1 2 0 1 2 1 2 2 0 1 2 2 2 2 2 1 0 1 2\n",
            " 1 1 2 2 1 0 1 2 2 1 0 1 0 2 1 2 2 0 2 2 2 2 1 2 0 2 0 0 0 0 2 1 1 2 2 0 0\n",
            " 1 2 1 2 2 2 1 0 2 2 0 0 0 1 0 2 2 1 0 0 0 0 1 2]\n",
            "[[3.82909176e-01 4.63324049e-01 1.53766774e-01]\n",
            " [2.47035939e-01 2.98621438e-01 4.54342623e-01]\n",
            " [2.94579416e-01 6.54233801e-01 5.11867837e-02]\n",
            " [2.17266228e-02 2.22395002e-01 7.55878375e-01]\n",
            " [1.84326839e-01 5.56709577e-01 2.58963584e-01]\n",
            " [2.43711092e-02 4.53409882e-01 5.22219009e-01]\n",
            " [8.75532502e-01 1.21222383e-01 3.24511517e-03]\n",
            " [2.16474722e-01 1.98454191e-01 5.85071087e-01]\n",
            " [8.54000517e-03 2.12335162e-01 7.79124833e-01]\n",
            " [7.90783603e-02 5.94052740e-01 3.26868899e-01]\n",
            " [1.23162171e-01 6.46600310e-01 2.30237519e-01]\n",
            " [8.33147709e-01 1.60324452e-01 6.52783939e-03]\n",
            " [1.83049715e-02 2.06184094e-01 7.75510935e-01]\n",
            " [3.84029900e-05 7.78093634e-03 9.92180661e-01]\n",
            " [8.65963800e-04 2.61137362e-02 9.73020300e-01]\n",
            " [3.37165080e-01 5.38598540e-01 1.24236379e-01]\n",
            " [3.82252611e-04 8.74187183e-02 9.12199029e-01]\n",
            " [2.76557802e-01 6.15644058e-01 1.07798140e-01]\n",
            " [3.12878734e-04 2.13088092e-02 9.78378312e-01]\n",
            " [2.02704139e-01 5.34096118e-01 2.63199742e-01]\n",
            " [2.51765385e-01 4.51757120e-01 2.96477496e-01]\n",
            " [4.24991419e-01 4.06137743e-01 1.68870838e-01]\n",
            " [2.51117951e-05 6.57851891e-03 9.93396369e-01]\n",
            " [9.11273720e-01 8.74328947e-02 1.29338538e-03]\n",
            " [9.34779443e-02 3.18933686e-01 5.87588370e-01]\n",
            " [1.57025093e-01 5.04797866e-01 3.38177041e-01]\n",
            " [7.67655752e-01 2.24638795e-01 7.70545243e-03]\n",
            " [7.12958223e-03 2.65748764e-01 7.27121654e-01]\n",
            " [9.06222202e-02 5.29044758e-01 3.80333022e-01]\n",
            " [2.86016860e-02 3.01771085e-01 6.69627229e-01]\n",
            " [7.44719264e-02 4.66688960e-01 4.58839113e-01]\n",
            " [1.58622834e-01 4.41819797e-01 3.99557369e-01]\n",
            " [1.04860503e-01 7.16066076e-01 1.79073420e-01]\n",
            " [1.90616713e-01 5.14798180e-01 2.94585107e-01]\n",
            " [3.77183252e-01 3.56791063e-01 2.66025684e-01]\n",
            " [2.55476968e-02 3.01028427e-01 6.73423876e-01]\n",
            " [3.85653911e-01 3.67684342e-01 2.46661747e-01]\n",
            " [2.49257282e-01 3.59339919e-01 3.91402799e-01]\n",
            " [1.46625341e-02 6.71405551e-01 3.13931915e-01]\n",
            " [4.42438071e-03 1.34190156e-01 8.61385463e-01]\n",
            " [8.99470461e-05 9.86255771e-02 9.01284476e-01]\n",
            " [4.33369928e-02 2.50542159e-01 7.06120848e-01]\n",
            " [1.76990080e-01 4.70807157e-01 3.52202763e-01]\n",
            " [6.58220481e-01 2.67372896e-01 7.44066222e-02]\n",
            " [4.94205240e-07 5.93690692e-07 9.99998912e-01]\n",
            " [7.65440253e-02 7.35943140e-01 1.87512834e-01]\n",
            " [2.28623990e-02 3.02396245e-01 6.74741356e-01]\n",
            " [7.86384030e-01 2.13039181e-01 5.76789370e-04]\n",
            " [8.65752775e-03 1.16653173e-01 8.74689299e-01]\n",
            " [5.68801378e-01 2.72774694e-01 1.58423928e-01]\n",
            " [9.76632435e-01 2.33605822e-02 6.98273383e-06]\n",
            " [9.01705006e-01 9.27003642e-02 5.59462966e-03]\n",
            " [2.06585688e-02 2.96077678e-01 6.83263753e-01]\n",
            " [1.93588777e-01 4.99573733e-01 3.06837490e-01]\n",
            " [2.61524776e-02 4.19197338e-01 5.54650185e-01]\n",
            " [1.59356043e-01 6.02485511e-01 2.38158446e-01]\n",
            " [2.99336705e-04 2.45884176e-02 9.75112246e-01]\n",
            " [9.67869591e-01 2.77669364e-02 4.36347279e-03]\n",
            " [2.30737070e-01 4.92397168e-01 2.76865762e-01]\n",
            " [3.34482283e-02 1.88829360e-01 7.77722411e-01]\n",
            " [1.77050677e-01 5.07322244e-01 3.15627078e-01]\n",
            " [5.56433802e-03 1.76784792e-01 8.17650870e-01]\n",
            " [2.69691387e-04 6.32790929e-02 9.36451216e-01]\n",
            " [9.94643664e-01 5.35267111e-03 3.66454047e-06]\n",
            " [2.65824873e-01 5.23153451e-01 2.11021676e-01]\n",
            " [2.36449279e-02 2.40173110e-01 7.36181962e-01]\n",
            " [3.03803310e-02 2.98851866e-01 6.70767803e-01]\n",
            " [8.77906873e-02 3.62837758e-01 5.49371555e-01]\n",
            " [1.01799249e-03 3.08959955e-01 6.90022053e-01]\n",
            " [5.89196025e-02 1.77695874e-01 7.63384523e-01]\n",
            " [5.81797422e-02 6.22231476e-01 3.19588782e-01]\n",
            " [4.82818574e-01 4.57129976e-01 6.00514495e-02]\n",
            " [2.81439479e-01 4.95732546e-01 2.22827974e-01]\n",
            " [6.93487984e-04 3.78830725e-02 9.61423440e-01]\n",
            " [8.79214846e-02 6.30751656e-01 2.81326860e-01]\n",
            " [8.01282511e-02 4.74051840e-01 4.45819909e-01]\n",
            " [2.47424402e-02 2.39826656e-01 7.35430903e-01]\n",
            " [4.94058067e-02 3.57112364e-01 5.93481830e-01]\n",
            " [2.40529456e-01 4.94397552e-01 2.65072993e-01]\n",
            " [9.97310752e-01 2.53670813e-03 1.52540201e-04]\n",
            " [1.98634941e-01 4.19029718e-01 3.82335341e-01]\n",
            " [6.19101200e-02 4.01460576e-01 5.36629304e-01]\n",
            " [1.01420255e-03 2.89203626e-02 9.70065435e-01]\n",
            " [2.16917908e-01 5.08065538e-01 2.75016554e-01]\n",
            " [4.16316139e-01 5.27627234e-01 5.60566273e-02]\n",
            " [2.32944069e-01 5.69062034e-01 1.97993898e-01]\n",
            " [9.94956967e-01 5.04086513e-03 2.16749463e-06]\n",
            " [6.74482193e-03 1.84530692e-01 8.08724486e-01]\n",
            " [9.60574868e-02 5.53944216e-01 3.49998297e-01]\n",
            " [3.06514168e-05 7.95254673e-03 9.92016802e-01]\n",
            " [9.77013720e-06 4.23707618e-03 9.95753154e-01]\n",
            " [9.65441057e-01 3.43040284e-02 2.54914854e-04]\n",
            " [5.02847358e-03 2.12246407e-01 7.82725119e-01]\n",
            " [8.02987591e-03 3.71051734e-01 6.20918391e-01]\n",
            " [5.85316161e-03 1.77280443e-01 8.16866395e-01]\n",
            " [1.91288850e-05 6.04530460e-03 9.93935567e-01]\n",
            " [1.36877548e-01 4.70827793e-01 3.92294659e-01]\n",
            " [3.45231839e-02 3.34818305e-01 6.30658511e-01]\n",
            " [5.08810139e-01 3.41237439e-01 1.49952422e-01]\n",
            " [6.34381906e-02 3.49572154e-01 5.86989655e-01]\n",
            " [6.23259227e-01 3.07325342e-01 6.94154306e-02]\n",
            " [4.02448784e-01 2.89333411e-01 3.08217805e-01]\n",
            " [4.36456254e-01 3.78382433e-01 1.85161314e-01]\n",
            " [5.18380230e-01 4.28854755e-01 5.27650151e-02]\n",
            " [4.09206351e-05 8.50596726e-03 9.91453112e-01]\n",
            " [7.43614899e-03 4.78364360e-01 5.14199491e-01]\n",
            " [2.75068314e-03 4.90268463e-01 5.06980854e-01]\n",
            " [1.85216483e-01 3.15495704e-01 4.99287813e-01]\n",
            " [9.71947455e-03 1.99374643e-01 7.90905883e-01]\n",
            " [9.57654382e-01 4.15157844e-02 8.29833989e-04]\n",
            " [3.58171690e-01 3.70075307e-01 2.71753003e-01]\n",
            " [3.46902757e-01 4.57167485e-01 1.95929758e-01]\n",
            " [6.94527459e-03 1.96226520e-01 7.96828205e-01]\n",
            " [7.86070295e-02 5.12932488e-01 4.08460483e-01]\n",
            " [4.56259469e-02 2.39937269e-01 7.14436784e-01]\n",
            " [3.23438907e-02 2.92442766e-01 6.75213343e-01]\n",
            " [3.01505991e-01 2.90940555e-01 4.07553454e-01]\n",
            " [1.15018895e-01 4.51266422e-01 4.33714683e-01]\n",
            " [9.99732527e-01 2.66926791e-04 5.46113769e-07]\n",
            " [1.54239289e-04 8.97371493e-02 9.10108611e-01]\n",
            " [6.96916069e-04 6.15791195e-02 9.37723964e-01]\n",
            " [3.45931335e-01 4.10285167e-01 2.43783499e-01]\n",
            " [2.68420451e-01 3.60264572e-01 3.71314977e-01]\n",
            " [3.97114835e-01 4.06336195e-01 1.96548970e-01]\n",
            " [2.72360259e-01 4.92390791e-01 2.35248951e-01]\n",
            " [9.96702144e-01 3.29176798e-03 6.08826476e-06]\n",
            " [3.42712338e-03 1.31244399e-01 8.65328478e-01]\n",
            " [7.43587673e-06 3.86910488e-03 9.96123459e-01]\n",
            " [1.87005015e-01 4.07485848e-01 4.05509137e-01]\n",
            " [2.54836766e-01 3.96526403e-01 3.48636830e-01]\n",
            " [7.09870701e-01 2.62462569e-01 2.76667306e-02]\n",
            " [9.97719220e-01 2.27908910e-03 1.69092283e-06]\n",
            " [2.57115845e-01 4.18010781e-01 3.24873373e-01]\n",
            " [3.33133158e-01 5.16198386e-01 1.50668456e-01]\n",
            " [8.37625769e-03 3.06304915e-01 6.85318828e-01]]\n"
          ]
        }
      ]
    },
    {
      "cell_type": "code",
      "source": [
        "cm = confusion_matrix(y_train, hasilPrediksi)\n",
        "cm_df = pd.DataFrame(cm,\n",
        "                     index = ['AMF','CMF','DMF'],\n",
        "                     columns = ['AMF','CMF','DMF'])\n",
        "plt.figure(figsize=(5, 4))\n",
        "sns.heatmap(cm_df, annot=True, fmt='d')\n",
        "plt.title('Confusion Matrix SVM')\n",
        "plt.ylabel('Actual Values')\n",
        "plt.xlabel('Predicted Values')\n",
        "plt.show()\n",
        "target = ['AMF', 'CMF', 'DMF']\n",
        "print(classification_report(y_train, hasilPrediksi, target_names=target))"
      ],
      "metadata": {
        "colab": {
          "base_uri": "https://localhost:8080/",
          "height": 469
        },
        "id": "GOvMuz_Wx_Li",
        "outputId": "03fd8722-00b9-4e9b-8a8b-3c9372f0dbc5"
      },
      "execution_count": 16,
      "outputs": [
        {
          "output_type": "display_data",
          "data": {
            "text/plain": [
              "<Figure size 360x288 with 2 Axes>"
            ],
            "image/png": "[encoded data removed]"
          },
          "metadata": {
            "needs_background": "light"
          }
        },
        {
          "output_type": "stream",
          "name": "stdout",
          "text": [
            "              precision    recall  f1-score   support\n",
            "\n",
            "         AMF       0.78      0.85      0.82        34\n",
            "         CMF       0.68      0.69      0.68        39\n",
            "         DMF       0.86      0.81      0.83        62\n",
            "\n",
            "    accuracy                           0.79       135\n",
            "   macro avg       0.77      0.78      0.78       135\n",
            "weighted avg       0.79      0.79      0.79       135\n",
            "\n"
          ]
        }
      ]
    },
    {
      "cell_type": "code",
      "source": [
        "proba = clf.predict_proba(X_test)\n",
        "print(proba)"
      ],
      "metadata": {
        "colab": {
          "base_uri": "https://localhost:8080/"
        },
        "id": "AZxqTXuAycHa",
        "outputId": "9bac83ac-80e0-4bfc-af3c-c7b5c111d118"
      },
      "execution_count": 17,
      "outputs": [
        {
          "output_type": "stream",
          "name": "stdout",
          "text": [
            "[[2.32340731e-01 4.61638409e-01 3.06020860e-01]\n",
            " [4.62341144e-01 5.15256952e-01 2.24019040e-02]\n",
            " [9.56714929e-04 1.72382173e-01 8.26661113e-01]\n",
            " [1.52672937e-01 4.79845394e-01 3.67481669e-01]\n",
            " [2.42310557e-01 4.08517976e-01 3.49171467e-01]\n",
            " [2.46378042e-01 4.57013576e-01 2.96608382e-01]\n",
            " [8.84184076e-01 1.15199005e-01 6.16918487e-04]\n",
            " [2.87321192e-01 3.59113031e-01 3.53565777e-01]\n",
            " [2.74978443e-01 2.96028910e-01 4.28992647e-01]\n",
            " [8.32056990e-05 1.32764669e-02 9.86640327e-01]\n",
            " [4.51224252e-01 4.25499070e-01 1.23276678e-01]\n",
            " [4.91705165e-02 4.46369531e-01 5.04459952e-01]\n",
            " [1.88154664e-01 4.90229958e-01 3.21615378e-01]\n",
            " [2.45775900e-02 2.66837804e-01 7.08584606e-01]\n",
            " [2.86245430e-01 5.21363309e-01 1.92391262e-01]\n",
            " [8.44312568e-01 1.48970065e-01 6.71736657e-03]\n",
            " [1.01970096e-05 4.35267704e-03 9.95637126e-01]\n",
            " [9.94494223e-01 5.50537431e-03 4.02464602e-07]\n",
            " [1.15331557e-05 4.33965010e-03 9.95648817e-01]\n",
            " [8.65783866e-01 1.28739265e-01 5.47686927e-03]\n",
            " [4.23073952e-01 3.87732533e-01 1.89193514e-01]\n",
            " [8.57575616e-05 1.27714037e-02 9.87142839e-01]\n",
            " [1.25559783e-01 3.63359316e-01 5.11080901e-01]\n",
            " [1.26583685e-01 3.85248477e-01 4.88167838e-01]\n",
            " [9.03695455e-03 2.17675431e-01 7.73287615e-01]\n",
            " [3.77410985e-03 9.21240387e-02 9.04101852e-01]\n",
            " [3.91400917e-04 2.78907400e-02 9.71717859e-01]\n",
            " [1.20142175e-01 4.10209182e-01 4.69648643e-01]\n",
            " [2.17811988e-01 4.27206822e-01 3.54981190e-01]\n",
            " [3.06704774e-02 2.47015068e-01 7.22314455e-01]\n",
            " [9.83894563e-01 1.60380578e-02 6.73795033e-05]\n",
            " [2.01231363e-03 1.30751962e-01 8.67235724e-01]\n",
            " [2.15904665e-01 3.55507770e-01 4.28587566e-01]\n",
            " [3.08184570e-01 4.91155758e-01 2.00659672e-01]\n",
            " [3.65010707e-01 5.80140625e-01 5.48486686e-02]\n",
            " [9.69138606e-03 3.99739592e-01 5.90569021e-01]\n",
            " [1.93391027e-01 5.50453368e-01 2.56155605e-01]\n",
            " [9.70457440e-01 2.95106424e-02 3.19180764e-05]\n",
            " [1.05765070e-03 1.07334580e-01 8.91607769e-01]\n",
            " [2.29721412e-02 1.71508353e-01 8.05519506e-01]\n",
            " [1.08853744e-03 1.79923090e-01 8.18988373e-01]\n",
            " [8.61436441e-01 1.31885662e-01 6.67789757e-03]\n",
            " [4.42298834e-01 4.37982276e-01 1.19718890e-01]\n",
            " [2.95871623e-04 2.54373180e-02 9.74266810e-01]\n",
            " [9.92102485e-01 7.69205726e-03 2.05457276e-04]\n",
            " [2.59990123e-01 4.80467213e-01 2.59542665e-01]\n",
            " [1.77902950e-01 7.87373611e-01 3.47234392e-02]\n",
            " [2.55239899e-01 7.31118635e-01 1.36414666e-02]\n",
            " [2.30717653e-02 3.24889158e-01 6.52039077e-01]\n",
            " [1.18422925e-01 5.03556905e-01 3.78020170e-01]\n",
            " [7.25080450e-01 2.65032753e-01 9.88679637e-03]\n",
            " [2.99926401e-01 3.70566979e-01 3.29506621e-01]\n",
            " [3.39767104e-03 2.38377723e-01 7.58224606e-01]\n",
            " [1.41724329e-03 8.05203540e-02 9.18062403e-01]\n",
            " [2.80915151e-01 2.80835011e-01 4.38249839e-01]\n",
            " [1.18712250e-04 4.67845201e-02 9.53096768e-01]\n",
            " [2.00886733e-02 4.00977907e-01 5.78933420e-01]\n",
            " [2.26349267e-01 4.37915248e-01 3.35735485e-01]]\n"
          ]
        }
      ]
    },
    {
      "cell_type": "code",
      "source": [
        "hasil = pd.DataFrame(hasilPrediksi, columns = ['Predicted'])\n",
        "hasil.head()"
      ],
      "metadata": {
        "colab": {
          "base_uri": "https://localhost:8080/",
          "height": 206
        },
        "id": "8DAqNA4rydts",
        "outputId": "dda74cfc-c2dd-4f4b-8856-f78539f24d20"
      },
      "execution_count": 18,
      "outputs": [
        {
          "output_type": "execute_result",
          "data": {
            "text/plain": [
              "   Predicted\n",
              "0          0\n",
              "1          2\n",
              "2          1\n",
              "3          2\n",
              "4          1"
            ],
            "text/html": [
              "\n",
              "  <div id=\"df-b39fd609-2d4e-4360-ae41-1199f7d123e9\">\n",
              "    <div class=\"colab-df-container\">\n",
              "      <div>\n",
              "<style scoped>\n",
              "    .dataframe tbody tr th:only-of-type {\n",
              "        vertical-align: middle;\n",
              "    }\n",
              "\n",
              "    .dataframe tbody tr th {\n",
              "        vertical-align: top;\n",
              "    }\n",
              "\n",
              "    .dataframe thead th {\n",
              "        text-align: right;\n",
              "    }\n",
              "</style>\n",
              "<table border=\"1\" class=\"dataframe\">\n",
              "  <thead>\n",
              "    <tr style=\"text-align: right;\">\n",
              "      <th></th>\n",
              "      <th>Predicted</th>\n",
              "    </tr>\n",
              "  </thead>\n",
              "  <tbody>\n",
              "    <tr>\n",
              "      <th>0</th>\n",
              "      <td>0</td>\n",
              "    </tr>\n",
              "    <tr>\n",
              "      <th>1</th>\n",
              "      <td>2</td>\n",
              "    </tr>\n",
              "    <tr>\n",
              "      <th>2</th>\n",
              "      <td>1</td>\n",
              "    </tr>\n",
              "    <tr>\n",
              "      <th>3</th>\n",
              "      <td>2</td>\n",
              "    </tr>\n",
              "    <tr>\n",
              "      <th>4</th>\n",
              "      <td>1</td>\n",
              "    </tr>\n",
              "  </tbody>\n",
              "</table>\n",
              "</div>\n",
              "      <button class=\"colab-df-convert\" onclick=\"convertToInteractive('df-b39fd609-2d4e-4360-ae41-1199f7d123e9')\"\n",
              "              title=\"Convert this dataframe to an interactive table.\"\n",
              "              style=\"display:none;\">\n",
              "        \n",
              "  <svg xmlns=\"http://www.w3.org/2000/svg\" height=\"24px\"viewBox=\"0 0 24 24\"\n",
              "       width=\"24px\">\n",
              "    <path d=\"M0 0h24v24H0V0z\" fill=\"none\"/>\n",
              "    <path d=\"M18.56 5.44l.94 2.06.94-2.06 2.06-.94-2.06-.94-.94-2.06-.94 2.06-2.06.94zm-11 1L8.5 8.5l.94-2.06 2.06-.94-2.06-.94L8.5 2.5l-.94 2.06-2.06.94zm10 10l.94 2.06.94-2.06 2.06-.94-2.06-.94-.94-2.06-.94 2.06-2.06.94z\"/><path d=\"M17.41 7.96l-1.37-1.37c-.4-.4-.92-.59-1.43-.59-.52 0-1.04.2-1.43.59L10.3 9.45l-7.72 7.72c-.78.78-.78 2.05 0 2.83L4 21.41c.39.39.9.59 1.41.59.51 0 1.02-.2 1.41-.59l7.78-7.78 2.81-2.81c.8-.78.8-2.07 0-2.86zM5.41 20L4 18.59l7.72-7.72 1.47 1.35L5.41 20z\"/>\n",
              "  </svg>\n",
              "      </button>\n",
              "      \n",
              "  <style>\n",
              "    .colab-df-container {\n",
              "      display:flex;\n",
              "      flex-wrap:wrap;\n",
              "      gap: 12px;\n",
              "    }\n",
              "\n",
              "    .colab-df-convert {\n",
              "      background-color: #E8F0FE;\n",
              "      border: none;\n",
              "      border-radius: 50%;\n",
              "      cursor: pointer;\n",
              "      display: none;\n",
              "      fill: #1967D2;\n",
              "      height: 32px;\n",
              "      padding: 0 0 0 0;\n",
              "      width: 32px;\n",
              "    }\n",
              "\n",
              "    .colab-df-convert:hover {\n",
              "      background-color: #E2EBFA;\n",
              "      box-shadow: 0px 1px 2px rgba(60, 64, 67, 0.3), 0px 1px 3px 1px rgba(60, 64, 67, 0.15);\n",
              "      fill: #174EA6;\n",
              "    }\n",
              "\n",
              "    [theme=dark] .colab-df-convert {\n",
              "      background-color: #3B4455;\n",
              "      fill: #D2E3FC;\n",
              "    }\n",
              "\n",
              "    [theme=dark] .colab-df-convert:hover {\n",
              "      background-color: #434B5C;\n",
              "      box-shadow: 0px 1px 3px 1px rgba(0, 0, 0, 0.15);\n",
              "      filter: drop-shadow(0px 1px 2px rgba(0, 0, 0, 0.3));\n",
              "      fill: #FFFFFF;\n",
              "    }\n",
              "  </style>\n",
              "\n",
              "      <script>\n",
              "        const buttonEl =\n",
              "          document.querySelector('#df-b39fd609-2d4e-4360-ae41-1199f7d123e9 button.colab-df-convert');\n",
              "        buttonEl.style.display =\n",
              "          google.colab.kernel.accessAllowed ? 'block' : 'none';\n",
              "\n",
              "        async function convertToInteractive(key) {\n",
              "          const element = document.querySelector('#df-b39fd609-2d4e-4360-ae41-1199f7d123e9');\n",
              "          const dataTable =\n",
              "            await google.colab.kernel.invokeFunction('convertToInteractive',\n",
              "                                                     [key], {});\n",
              "          if (!dataTable) return;\n",
              "\n",
              "          const docLinkHtml = 'Like what you see? Visit the ' +\n",
              "            '<a target=\"_blank\" href=https://colab.research.google.com/notebooks/data_table.ipynb>data table notebook</a>'\n",
              "            + ' to learn more about interactive tables.';\n",
              "          element.innerHTML = '';\n",
              "          dataTable['output_type'] = 'display_data';\n",
              "          await google.colab.output.renderOutput(dataTable, element);\n",
              "          const docLink = document.createElement('div');\n",
              "          docLink.innerHTML = docLinkHtml;\n",
              "          element.appendChild(docLink);\n",
              "        }\n",
              "      </script>\n",
              "    </div>\n",
              "  </div>\n",
              "  "
            ]
          },
          "metadata": {},
          "execution_count": 18
        }
      ]
    },
    {
      "cell_type": "code",
      "source": [
        "hasilPrediksi = clf.predict(X_test)\n",
        "print('Label Sebenarnya = ', y_test)\n",
        "print('Hasil Prediksi = ', hasilPrediksi)"
      ],
      "metadata": {
        "colab": {
          "base_uri": "https://localhost:8080/"
        },
        "id": "S0jyJi58yltM",
        "outputId": "8e8824f6-13fd-4d11-8c79-09a881237788"
      },
      "execution_count": 19,
      "outputs": [
        {
          "output_type": "stream",
          "name": "stdout",
          "text": [
            "Label Sebenarnya =  165    1\n",
            "60     0\n",
            "33     1\n",
            "72     1\n",
            "161    1\n",
            "176    1\n",
            "57     0\n",
            "142    1\n",
            "188    1\n",
            "10     2\n",
            "152    0\n",
            "157    2\n",
            "130    2\n",
            "102    1\n",
            "146    1\n",
            "111    0\n",
            "20     2\n",
            "19     0\n",
            "31     2\n",
            "69     0\n",
            "154    1\n",
            "8      2\n",
            "127    2\n",
            "153    1\n",
            "76     2\n",
            "44     2\n",
            "41     2\n",
            "98     1\n",
            "104    1\n",
            "0      2\n",
            "86     0\n",
            "63     2\n",
            "158    1\n",
            "78     1\n",
            "91     0\n",
            "42     2\n",
            "164    1\n",
            "49     0\n",
            "27     2\n",
            "90     2\n",
            "21     2\n",
            "88     0\n",
            "107    0\n",
            "1      2\n",
            "120    0\n",
            "179    0\n",
            "11     1\n",
            "7      0\n",
            "121    1\n",
            "160    2\n",
            "92     0\n",
            "190    1\n",
            "81     2\n",
            "65     2\n",
            "116    1\n",
            "82     2\n",
            "74     2\n",
            "174    2\n",
            "Name: Keterangan, dtype: int64\n",
            "Hasil Prediksi =  [1 0 2 1 0 1 0 1 2 2 0 2 1 2 1 0 2 0 2 0 0 2 2 2 2 2 2 2 1 2 0 2 2 1 1 2 1\n",
            " 0 2 2 2 0 0 2 0 1 1 1 2 1 0 0 2 2 2 2 2 1]\n"
          ]
        }
      ]
    },
    {
      "cell_type": "code",
      "source": [
        "cm = confusion_matrix(y_test, hasilPrediksi)"
      ],
      "metadata": {
        "id": "vEwDeBL1yotG"
      },
      "execution_count": 20,
      "outputs": []
    },
    {
      "cell_type": "code",
      "source": [
        "cm_df = pd.DataFrame(cm,\n",
        "                     index = ['AMF','CMF','DMF'],\n",
        "                     columns = ['AMF','CMF','DMF'])"
      ],
      "metadata": {
        "id": "gFliBquyyso9"
      },
      "execution_count": 21,
      "outputs": []
    },
    {
      "cell_type": "code",
      "source": [
        "plt.figure(figsize=(5,4))\n",
        "sns.heatmap(cm_df, annot=True, fmt='d')\n",
        "plt.title('Confusion Matrix SVM')\n",
        "plt.ylabel('Actual Values')\n",
        "plt.xlabel('Predicted Values')\n",
        "plt.show()"
      ],
      "metadata": {
        "colab": {
          "base_uri": "https://localhost:8080/",
          "height": 295
        },
        "id": "h3iRC7Styywq",
        "outputId": "d6176c96-f66a-443f-cf35-32d542ba5538"
      },
      "execution_count": 22,
      "outputs": [
        {
          "output_type": "display_data",
          "data": {
            "text/plain": [
              "<Figure size 360x288 with 2 Axes>"
            ],
            "image/png": "[encoded data removed]"
          },
          "metadata": {
            "needs_background": "light"
          }
        }
      ]
    },
    {
      "cell_type": "code",
      "source": [
        "print(cm_df)"
      ],
      "metadata": {
        "colab": {
          "base_uri": "https://localhost:8080/"
        },
        "id": "2XKPtwJ-y64o",
        "outputId": "64cbe05f-7683-4193-d00c-364fd9eb3f19"
      },
      "execution_count": 23,
      "outputs": [
        {
          "output_type": "stream",
          "name": "stdout",
          "text": [
            "     AMF  CMF  DMF\n",
            "AMF   12    3    0\n",
            "CMF    3    9    8\n",
            "DMF    0    3   20\n"
          ]
        }
      ]
    },
    {
      "cell_type": "code",
      "source": [
        "target = ['AMF', 'CMF', 'DMF']\n",
        "print(classification_report(y_test, hasilPrediksi, target_names=target))"
      ],
      "metadata": {
        "colab": {
          "base_uri": "https://localhost:8080/"
        },
        "id": "0qkOCDoYzBpF",
        "outputId": "dc7da383-d194-4527-c90d-8b3df164b01b"
      },
      "execution_count": 24,
      "outputs": [
        {
          "output_type": "stream",
          "name": "stdout",
          "text": [
            "              precision    recall  f1-score   support\n",
            "\n",
            "         AMF       0.80      0.80      0.80        15\n",
            "         CMF       0.60      0.45      0.51        20\n",
            "         DMF       0.71      0.87      0.78        23\n",
            "\n",
            "    accuracy                           0.71        58\n",
            "   macro avg       0.70      0.71      0.70        58\n",
            "weighted avg       0.70      0.71      0.70        58\n",
            "\n"
          ]
        }
      ]
    },
    {
      "cell_type": "code",
      "source": [
        "from sklearn.model_selection import cross_val_score\n",
        "scores = cross_val_score(clf, X_test, y_test, cv=5)\n",
        "scores"
      ],
      "metadata": {
        "colab": {
          "base_uri": "https://localhost:8080/"
        },
        "id": "mj6w0M9WzQoT",
        "outputId": "5952eb30-dad0-4bbc-d39c-56f0f56c5a48"
      },
      "execution_count": 25,
      "outputs": [
        {
          "output_type": "stream",
          "name": "stdout",
          "text": [
            "[LibSVM][LibSVM][LibSVM][LibSVM][LibSVM]"
          ]
        },
        {
          "output_type": "execute_result",
          "data": {
            "text/plain": [
              "array([0.75      , 0.83333333, 0.58333333, 0.72727273, 0.63636364])"
            ]
          },
          "metadata": {},
          "execution_count": 25
        }
      ]
    },
    {
      "cell_type": "code",
      "source": [
        "print(cross_val_score)"
      ],
      "metadata": {
        "colab": {
          "base_uri": "https://localhost:8080/"
        },
        "id": "L3HmomPizUwR",
        "outputId": "5e00eedc-4541-477c-80c8-4051bc5623bf"
      },
      "execution_count": 26,
      "outputs": [
        {
          "output_type": "stream",
          "name": "stdout",
          "text": [
            "<function cross_val_score at 0x7f8cef8f0b00>\n"
          ]
        }
      ]
    },
    {
      "cell_type": "code",
      "source": [
        "roc_auc_score(y_test,proba,multi_class='ovr')"
      ],
      "metadata": {
        "colab": {
          "base_uri": "https://localhost:8080/"
        },
        "id": "Uh6QM6y6zVg7",
        "outputId": "b4f6c014-52c7-445b-b05f-f4eb991eb94a"
      },
      "execution_count": 27,
      "outputs": [
        {
          "output_type": "execute_result",
          "data": {
            "text/plain": [
              "0.8895265844084427"
            ]
          },
          "metadata": {},
          "execution_count": 27
        }
      ]
    },
    {
      "cell_type": "code",
      "source": [
        "fpr = {}\n",
        "tpr = {}\n",
        "thresh = {}\n",
        "\n",
        "n_class = 3\n",
        "\n",
        "for i in range(n_class):\n",
        "    fpr[i], tpr[i], thresh[i] = roc_curve(\n",
        "        y_test, proba[:, i], pos_label=i)\n",
        "\n",
        "# plotting\n",
        "plt.plot(fpr[0], tpr[0], linestyle='--',\n",
        "         color='orange', label='Class 0 vs Rest')\n",
        "plt.plot(fpr[1], tpr[1], linestyle='--',\n",
        "         color='green', label='Class 1 vs Rest')\n",
        "plt.plot(fpr[2], tpr[2], linestyle='--', color='blue', label='Class 2 vs Rest')\n",
        "plt.title('Multiclass ROC curve')\n",
        "plt.xlabel('False Positive Rate')\n",
        "plt.ylabel('True Positive rate')\n",
        "plt.legend(loc='best')\n",
        "plt.savefig('Multiclass ROC', dpi=300)"
      ],
      "metadata": {
        "colab": {
          "base_uri": "https://localhost:8080/",
          "height": 295
        },
        "id": "5KY7nCcMzZa7",
        "outputId": "90cb8e9d-a722-4d2c-b3a8-c940d0f4fcbf"
      },
      "execution_count": 28,
      "outputs": [
        {
          "output_type": "display_data",
          "data": {
            "text/plain": [
              "<Figure size 432x288 with 1 Axes>"
            ],
            "image/png": "[encoded data removed]"
          },
          "metadata": {
            "needs_background": "light"
          }
        }
      ]
    },
    {
      "cell_type": "code",
      "source": [
        "from sklearn import metrics\n",
        "\n",
        "print(metrics.mean_squared_error(y_test,hasilPrediksi))"
      ],
      "metadata": {
        "colab": {
          "base_uri": "https://localhost:8080/"
        },
        "id": "wnD_uxduz4Gk",
        "outputId": "c7153e68-1dbb-414b-d6ea-51594c918a84"
      },
      "execution_count": 29,
      "outputs": [
        {
          "output_type": "stream",
          "name": "stdout",
          "text": [
            "0.29310344827586204\n"
          ]
        }
      ]
    },
    {
      "cell_type": "code",
      "source": [
        "baru = [[10, 1, 3, 1056, 255, 8, 20, 5]]"
      ],
      "metadata": {
        "id": "z00SU9766Xmd"
      },
      "execution_count": 38,
      "outputs": []
    },
    {
      "cell_type": "code",
      "source": [
        "hasilPrediksi = clf.predict(baru)"
      ],
      "metadata": {
        "colab": {
          "base_uri": "https://localhost:8080/"
        },
        "id": "RbDxy_1_6ww0",
        "outputId": "ceaaa178-e14c-4296-dc50-f77cf180740d"
      },
      "execution_count": 39,
      "outputs": [
        {
          "output_type": "stream",
          "name": "stderr",
          "text": [
            "/usr/local/lib/python3.7/dist-packages/sklearn/base.py:451: UserWarning: X does not have valid feature names, but SVC was fitted with feature names\n",
            "  \"X does not have valid feature names, but\"\n"
          ]
        }
      ]
    },
    {
      "cell_type": "code",
      "source": [
        "prediction = clf.predict(baru)\n",
        "output = int(prediction[0])\n",
        "probas = clf.predict_proba(baru)\n",
        "output_probability = float(probas[:, output].round(3))\n",
        "# output dictionary\n",
        "konsentrasi = {0: \"AMF\", 1: \"CMF\", 2: \"DMF\"}\n",
        "# show results\n",
        "result = {\"prediction\": konsentrasi[output],\n",
        "          \"confidence_score\": output_probability}\n",
        "\n",
        "print(result)"
      ],
      "metadata": {
        "colab": {
          "base_uri": "https://localhost:8080/"
        },
        "id": "0kp0ln6t6XeF",
        "outputId": "3319f92b-c2a1-4111-e16f-5f4c824be9cd"
      },
      "execution_count": 40,
      "outputs": [
        {
          "output_type": "stream",
          "name": "stdout",
          "text": [
            "{'prediction': 'AMF', 'confidence_score': 0.782}\n"
          ]
        },
        {
          "output_type": "stream",
          "name": "stderr",
          "text": [
            "/usr/local/lib/python3.7/dist-packages/sklearn/base.py:451: UserWarning: X does not have valid feature names, but SVC was fitted with feature names\n",
            "  \"X does not have valid feature names, but\"\n",
            "/usr/local/lib/python3.7/dist-packages/sklearn/base.py:451: UserWarning: X does not have valid feature names, but SVC was fitted with feature names\n",
            "  \"X does not have valid feature names, but\"\n"
          ]
        }
      ]
    },
    {
      "cell_type": "code",
      "source": [
        "import pickle\n",
        "filename = 'modelSVMpremierleague'\n",
        "pickle.dump(clf, open(filename, 'wb'))"
      ],
      "metadata": {
        "id": "VaOhEKQJ7muM"
      },
      "execution_count": 42,
      "outputs": []
    },
    {
      "cell_type": "code",
      "source": [
        "loaded_model = pickle.load(open('modelSVMpremierleague','rb'))"
      ],
      "metadata": {
        "id": "VcZDNbIb7zst"
      },
      "execution_count": 44,
      "outputs": []
    }
  ]
}